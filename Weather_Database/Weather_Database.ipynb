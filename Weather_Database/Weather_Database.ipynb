{
 "cells": [
  {
   "cell_type": "code",
   "execution_count": 1,
   "metadata": {},
   "outputs": [],
   "source": [
    "# Import the dependencies.\n",
    "import pandas as pd\n",
    "import matplotlib.pyplot as plt\n",
    "import numpy as np\n",
    "from citipy import citipy\n",
    "import requests\n",
    "import traceback\n",
    "from config import weather_api_key"
   ]
  },
  {
   "cell_type": "code",
   "execution_count": 2,
   "metadata": {},
   "outputs": [],
   "source": [
    "# Starting URL for Weather Map API Call.\n",
    "url = \"http://api.openweathermap.org/data/2.5/weather?units=Imperial&APPID=\" + weather_api_key"
   ]
  },
  {
   "cell_type": "code",
   "execution_count": 3,
   "metadata": {},
   "outputs": [
    {
     "data": {
      "text/plain": [
       "<zip at 0x1e32ec1c648>"
      ]
     },
     "execution_count": 3,
     "metadata": {},
     "output_type": "execute_result"
    }
   ],
   "source": [
    "# Create a set of random latitude and longitude combinations.\n",
    "lats = np.random.uniform(low=-90.000, high=90.000, size=2000)\n",
    "lngs = np.random.uniform(low=-180.000, high=180.000, size=2000)\n",
    "lat_lngs = zip(lats, lngs)\n",
    "lat_lngs"
   ]
  },
  {
   "cell_type": "code",
   "execution_count": 4,
   "metadata": {},
   "outputs": [],
   "source": [
    "# Add the latitudes and longitudes to a list.\n",
    "coordinates = list(lat_lngs)"
   ]
  },
  {
   "cell_type": "code",
   "execution_count": 5,
   "metadata": {},
   "outputs": [],
   "source": [
    "# Create a list for holding the cities.\n",
    "cities = []\n",
    "# Identify the nearest city for each latitude and longitude combination.\n",
    "for coordinate in coordinates:\n",
    "    city = citipy.nearest_city(coordinate[0], coordinate[1]).city_name\n",
    "\n",
    "    # If the city is unique, then we will add it to the cities list.\n",
    "    if city not in cities:\n",
    "        cities.append(city)"
   ]
  },
  {
   "cell_type": "code",
   "execution_count": 6,
   "metadata": {},
   "outputs": [
    {
     "name": "stdout",
     "output_type": "stream",
     "text": [
      "Beginning Data Retrieval     \n",
      "-----------------------------\n",
      "Processing Record 1 of Set 1 | helong\n",
      "Processing Record 2 of Set 1 | kapaa\n",
      "Processing Record 3 of Set 1 | kefamenanu\n",
      "Processing Record 4 of Set 1 | busselton\n",
      "Processing Record 5 of Set 1 | atuona\n",
      "Processing Record 6 of Set 1 | shunyi\n",
      "Processing Record 7 of Set 1 | bluff\n",
      "Processing Record 8 of Set 1 | oranjestad\n",
      "Processing Record 9 of Set 1 | punta arenas\n",
      "Processing Record 10 of Set 1 | ouadda\n",
      "Processing Record 11 of Set 1 | husavik\n",
      "Processing Record 12 of Set 1 | arraial do cabo\n",
      "Processing Record 13 of Set 1 | saint-philippe\n",
      "Processing Record 14 of Set 1 | tuktoyaktuk\n",
      "Processing Record 15 of Set 1 | manthani\n",
      "Processing Record 16 of Set 1 | georgetown\n",
      "Processing Record 17 of Set 1 | lompoc\n",
      "Processing Record 18 of Set 1 | lebu\n",
      "Processing Record 19 of Set 1 | new norfolk\n",
      "Processing Record 20 of Set 1 | verkhoyansk\n",
      "Processing Record 21 of Set 1 | manjacaze\n",
      "Processing Record 22 of Set 1 | fatehpur\n",
      "Processing Record 23 of Set 1 | mataura\n",
      "Processing Record 24 of Set 1 | hundested\n",
      "Processing Record 25 of Set 1 | invermere\n",
      "Processing Record 26 of Set 1 | amderma\n",
      "City not found. Skipping...\n"
     ]
    },
    {
     "name": "stderr",
     "output_type": "stream",
     "text": [
      "Traceback (most recent call last):\n",
      "  File \"<ipython-input-6-2758b8150e3e>\", line 31, in <module>\n",
      "    city_lat = city_weather[\"coord\"][\"lat\"]\n",
      "KeyError: 'coord'\n"
     ]
    },
    {
     "name": "stdout",
     "output_type": "stream",
     "text": [
      "Processing Record 27 of Set 1 | hobart\n",
      "Processing Record 28 of Set 1 | bredasdorp\n",
      "Processing Record 29 of Set 1 | jamestown\n",
      "Processing Record 30 of Set 1 | altamira\n",
      "Processing Record 31 of Set 1 | kavieng\n",
      "Processing Record 32 of Set 1 | eureka\n",
      "Processing Record 33 of Set 1 | east london\n",
      "Processing Record 34 of Set 1 | jalu\n",
      "Processing Record 35 of Set 1 | nampula\n",
      "Processing Record 36 of Set 1 | port alfred\n",
      "Processing Record 37 of Set 1 | qandala\n",
      "Processing Record 38 of Set 1 | ucluelet\n",
      "Processing Record 39 of Set 1 | butaritari\n",
      "Processing Record 40 of Set 1 | yar-sale\n",
      "Processing Record 41 of Set 1 | banjar\n",
      "Processing Record 42 of Set 1 | margate\n",
      "Processing Record 43 of Set 1 | statesville\n",
      "Processing Record 44 of Set 1 | porbandar\n",
      "Processing Record 45 of Set 1 | belushya guba\n",
      "City not found. Skipping...\n",
      "Processing Record 46 of Set 1 | petropavlovsk-kamchatskiy\n",
      "Processing Record 47 of Set 1 | mar del plata\n"
     ]
    },
    {
     "name": "stderr",
     "output_type": "stream",
     "text": [
      "Traceback (most recent call last):\n",
      "  File \"<ipython-input-6-2758b8150e3e>\", line 31, in <module>\n",
      "    city_lat = city_weather[\"coord\"][\"lat\"]\n",
      "KeyError: 'coord'\n"
     ]
    },
    {
     "name": "stdout",
     "output_type": "stream",
     "text": [
      "Processing Record 48 of Set 1 | port lincoln\n",
      "Processing Record 49 of Set 1 | yuci\n",
      "Processing Record 50 of Set 1 | aripuana\n",
      "Processing Record 1 of Set 2 | taoudenni\n",
      "Processing Record 2 of Set 2 | karratha\n",
      "Processing Record 3 of Set 2 | saint george\n",
      "Processing Record 4 of Set 2 | honningsvag\n",
      "Processing Record 5 of Set 2 | rikitea\n",
      "Processing Record 6 of Set 2 | miranda\n",
      "Processing Record 7 of Set 2 | taolanaro\n",
      "City not found. Skipping...\n"
     ]
    },
    {
     "name": "stderr",
     "output_type": "stream",
     "text": [
      "Traceback (most recent call last):\n",
      "  File \"<ipython-input-6-2758b8150e3e>\", line 31, in <module>\n",
      "    city_lat = city_weather[\"coord\"][\"lat\"]\n",
      "KeyError: 'coord'\n"
     ]
    },
    {
     "name": "stdout",
     "output_type": "stream",
     "text": [
      "Processing Record 8 of Set 2 | mount gambier\n",
      "Processing Record 9 of Set 2 | nikolskoye\n",
      "Processing Record 10 of Set 2 | klaksvik\n",
      "Processing Record 11 of Set 2 | swan hill\n",
      "Processing Record 12 of Set 2 | kavaratti\n",
      "Processing Record 13 of Set 2 | rawson\n",
      "Processing Record 14 of Set 2 | obo\n",
      "Processing Record 15 of Set 2 | grand river south east\n",
      "City not found. Skipping...\n",
      "Processing Record 16 of Set 2 | yellowknife\n"
     ]
    },
    {
     "name": "stderr",
     "output_type": "stream",
     "text": [
      "Traceback (most recent call last):\n",
      "  File \"<ipython-input-6-2758b8150e3e>\", line 31, in <module>\n",
      "    city_lat = city_weather[\"coord\"][\"lat\"]\n",
      "KeyError: 'coord'\n"
     ]
    },
    {
     "name": "stdout",
     "output_type": "stream",
     "text": [
      "Processing Record 17 of Set 2 | ust-nera\n",
      "Processing Record 18 of Set 2 | cape town\n",
      "Processing Record 19 of Set 2 | ngukurr\n",
      "City not found. Skipping...\n",
      "Processing Record 20 of Set 2 | staryy nadym\n"
     ]
    },
    {
     "name": "stderr",
     "output_type": "stream",
     "text": [
      "Traceback (most recent call last):\n",
      "  File \"<ipython-input-6-2758b8150e3e>\", line 31, in <module>\n",
      "    city_lat = city_weather[\"coord\"][\"lat\"]\n",
      "KeyError: 'coord'\n"
     ]
    },
    {
     "name": "stdout",
     "output_type": "stream",
     "text": [
      "Processing Record 21 of Set 2 | kegayli\n",
      "City not found. Skipping...\n"
     ]
    },
    {
     "name": "stderr",
     "output_type": "stream",
     "text": [
      "Traceback (most recent call last):\n",
      "  File \"<ipython-input-6-2758b8150e3e>\", line 31, in <module>\n",
      "    city_lat = city_weather[\"coord\"][\"lat\"]\n",
      "KeyError: 'coord'\n"
     ]
    },
    {
     "name": "stdout",
     "output_type": "stream",
     "text": [
      "Processing Record 22 of Set 2 | zhigansk\n",
      "Processing Record 23 of Set 2 | vaini\n",
      "Processing Record 24 of Set 2 | oktyabrskiy\n",
      "Processing Record 25 of Set 2 | puerto ayora\n",
      "Processing Record 26 of Set 2 | hilo\n",
      "Processing Record 27 of Set 2 | chuy\n",
      "Processing Record 28 of Set 2 | nishihara\n",
      "Processing Record 29 of Set 2 | iqaluit\n",
      "Processing Record 30 of Set 2 | longyearbyen\n",
      "Processing Record 31 of Set 2 | tasiilaq\n",
      "Processing Record 32 of Set 2 | isangel\n",
      "Processing Record 33 of Set 2 | dikson\n",
      "Processing Record 34 of Set 2 | mirnyy\n",
      "Processing Record 35 of Set 2 | saskylakh\n",
      "Processing Record 36 of Set 2 | tura\n",
      "Processing Record 37 of Set 2 | thompson\n",
      "Processing Record 38 of Set 2 | san jose\n",
      "Processing Record 39 of Set 2 | norman wells\n",
      "Processing Record 40 of Set 2 | qaanaaq\n",
      "Processing Record 41 of Set 2 | saalfeld\n",
      "Processing Record 42 of Set 2 | cidreira\n",
      "Processing Record 43 of Set 2 | vung tau\n",
      "Processing Record 44 of Set 2 | ushuaia\n",
      "Processing Record 45 of Set 2 | tripoli\n",
      "Processing Record 46 of Set 2 | mys shmidta\n",
      "City not found. Skipping...\n",
      "Processing Record 47 of Set 2 | carnot\n"
     ]
    },
    {
     "name": "stderr",
     "output_type": "stream",
     "text": [
      "Traceback (most recent call last):\n",
      "  File \"<ipython-input-6-2758b8150e3e>\", line 31, in <module>\n",
      "    city_lat = city_weather[\"coord\"][\"lat\"]\n",
      "KeyError: 'coord'\n"
     ]
    },
    {
     "name": "stdout",
     "output_type": "stream",
     "text": [
      "Processing Record 48 of Set 2 | solomenskoye\n",
      "Processing Record 49 of Set 2 | amahai\n",
      "Processing Record 50 of Set 2 | aklavik\n",
      "Processing Record 1 of Set 3 | bonavista\n",
      "Processing Record 2 of Set 3 | hermanus\n",
      "Processing Record 3 of Set 3 | mocambique\n",
      "City not found. Skipping...\n",
      "Processing Record 4 of Set 3 | katsuura\n"
     ]
    },
    {
     "name": "stderr",
     "output_type": "stream",
     "text": [
      "Traceback (most recent call last):\n",
      "  File \"<ipython-input-6-2758b8150e3e>\", line 31, in <module>\n",
      "    city_lat = city_weather[\"coord\"][\"lat\"]\n",
      "KeyError: 'coord'\n"
     ]
    },
    {
     "name": "stdout",
     "output_type": "stream",
     "text": [
      "Processing Record 5 of Set 3 | mackay\n",
      "Processing Record 6 of Set 3 | putina\n",
      "Processing Record 7 of Set 3 | ahipara\n",
      "Processing Record 8 of Set 3 | port hedland\n",
      "Processing Record 9 of Set 3 | biak\n",
      "Processing Record 10 of Set 3 | chokurdakh\n",
      "Processing Record 11 of Set 3 | castro\n",
      "Processing Record 12 of Set 3 | sakakah\n",
      "Processing Record 13 of Set 3 | pag\n",
      "Processing Record 14 of Set 3 | wabag\n",
      "Processing Record 15 of Set 3 | nemuro\n",
      "Processing Record 16 of Set 3 | nabire\n",
      "Processing Record 17 of Set 3 | along\n",
      "Processing Record 18 of Set 3 | ambon\n",
      "Processing Record 19 of Set 3 | alugan\n",
      "Processing Record 20 of Set 3 | marcona\n",
      "City not found. Skipping...\n",
      "Processing Record 21 of Set 3 | ust-kamchatsk\n",
      "City not found. Skipping...\n",
      "Processing Record 22 of Set 3 | guarapari\n"
     ]
    },
    {
     "name": "stderr",
     "output_type": "stream",
     "text": [
      "Traceback (most recent call last):\n",
      "  File \"<ipython-input-6-2758b8150e3e>\", line 31, in <module>\n",
      "    city_lat = city_weather[\"coord\"][\"lat\"]\n",
      "KeyError: 'coord'\n",
      "Traceback (most recent call last):\n",
      "  File \"<ipython-input-6-2758b8150e3e>\", line 31, in <module>\n",
      "    city_lat = city_weather[\"coord\"][\"lat\"]\n",
      "KeyError: 'coord'\n"
     ]
    },
    {
     "name": "stdout",
     "output_type": "stream",
     "text": [
      "Processing Record 23 of Set 3 | bosaso\n",
      "Processing Record 24 of Set 3 | palmer\n",
      "Processing Record 25 of Set 3 | havoysund\n",
      "Processing Record 26 of Set 3 | mullaitivu\n",
      "City not found. Skipping...\n"
     ]
    },
    {
     "name": "stderr",
     "output_type": "stream",
     "text": [
      "Traceback (most recent call last):\n",
      "  File \"<ipython-input-6-2758b8150e3e>\", line 31, in <module>\n",
      "    city_lat = city_weather[\"coord\"][\"lat\"]\n",
      "KeyError: 'coord'\n"
     ]
    },
    {
     "name": "stdout",
     "output_type": "stream",
     "text": [
      "Processing Record 27 of Set 3 | narsaq\n",
      "Processing Record 28 of Set 3 | constitucion\n",
      "Processing Record 29 of Set 3 | pevek\n",
      "Processing Record 30 of Set 3 | jaora\n",
      "Processing Record 31 of Set 3 | santa maria\n",
      "Processing Record 32 of Set 3 | ereymentau\n",
      "Processing Record 33 of Set 3 | tsihombe\n",
      "City not found. Skipping...\n"
     ]
    },
    {
     "name": "stderr",
     "output_type": "stream",
     "text": [
      "Traceback (most recent call last):\n",
      "  File \"<ipython-input-6-2758b8150e3e>\", line 31, in <module>\n",
      "    city_lat = city_weather[\"coord\"][\"lat\"]\n",
      "KeyError: 'coord'\n"
     ]
    },
    {
     "name": "stdout",
     "output_type": "stream",
     "text": [
      "Processing Record 34 of Set 3 | sola\n",
      "Processing Record 35 of Set 3 | sistranda\n",
      "Processing Record 36 of Set 3 | igarka\n",
      "Processing Record 37 of Set 3 | cockburn town\n",
      "Processing Record 38 of Set 3 | bardiyah\n",
      "Processing Record 39 of Set 3 | luderitz\n",
      "Processing Record 40 of Set 3 | cabo san lucas\n",
      "Processing Record 41 of Set 3 | geraldton\n",
      "Processing Record 42 of Set 3 | siguiri\n",
      "Processing Record 43 of Set 3 | ribeira grande\n",
      "Processing Record 44 of Set 3 | bethel\n",
      "Processing Record 45 of Set 3 | vostok\n",
      "Processing Record 46 of Set 3 | skagastrond\n",
      "City not found. Skipping...\n"
     ]
    },
    {
     "name": "stderr",
     "output_type": "stream",
     "text": [
      "Traceback (most recent call last):\n",
      "  File \"<ipython-input-6-2758b8150e3e>\", line 31, in <module>\n",
      "    city_lat = city_weather[\"coord\"][\"lat\"]\n",
      "KeyError: 'coord'\n"
     ]
    },
    {
     "name": "stdout",
     "output_type": "stream",
     "text": [
      "Processing Record 47 of Set 3 | aranos\n",
      "Processing Record 48 of Set 3 | rocha\n",
      "Processing Record 49 of Set 3 | leningradskiy\n",
      "Processing Record 50 of Set 3 | khatanga\n",
      "Processing Record 1 of Set 4 | qasigiannguit\n",
      "Processing Record 2 of Set 4 | broken hill\n",
      "Processing Record 3 of Set 4 | puerto el triunfo\n",
      "Processing Record 4 of Set 4 | uvat\n",
      "Processing Record 5 of Set 4 | vanimo\n",
      "Processing Record 6 of Set 4 | bengkulu\n",
      "Processing Record 7 of Set 4 | carnarvon\n",
      "Processing Record 8 of Set 4 | partenit\n",
      "Processing Record 9 of Set 4 | gamba\n",
      "Processing Record 10 of Set 4 | rumoi\n",
      "Processing Record 11 of Set 4 | souillac\n",
      "Processing Record 12 of Set 4 | sijunjung\n",
      "Processing Record 13 of Set 4 | wewak\n",
      "Processing Record 14 of Set 4 | nizhneyansk\n",
      "City not found. Skipping...\n",
      "Processing Record 15 of Set 4 | sisimiut\n"
     ]
    },
    {
     "name": "stderr",
     "output_type": "stream",
     "text": [
      "Traceback (most recent call last):\n",
      "  File \"<ipython-input-6-2758b8150e3e>\", line 31, in <module>\n",
      "    city_lat = city_weather[\"coord\"][\"lat\"]\n",
      "KeyError: 'coord'\n"
     ]
    },
    {
     "name": "stdout",
     "output_type": "stream",
     "text": [
      "Processing Record 16 of Set 4 | baft\n",
      "Processing Record 17 of Set 4 | hithadhoo\n",
      "Processing Record 18 of Set 4 | talnakh\n",
      "Processing Record 19 of Set 4 | konevo\n",
      "Processing Record 20 of Set 4 | san policarpo\n",
      "Processing Record 21 of Set 4 | ponta do sol\n",
      "Processing Record 22 of Set 4 | novobirilyussy\n",
      "Processing Record 23 of Set 4 | sao joao da barra\n",
      "Processing Record 24 of Set 4 | zarubino\n",
      "Processing Record 25 of Set 4 | keflavik\n",
      "Processing Record 26 of Set 4 | soe\n",
      "Processing Record 27 of Set 4 | torez\n",
      "Processing Record 28 of Set 4 | flinders\n",
      "Processing Record 29 of Set 4 | port elizabeth\n",
      "Processing Record 30 of Set 4 | bambous virieux\n",
      "Processing Record 31 of Set 4 | nagtipunan\n",
      "Processing Record 32 of Set 4 | tevriz\n",
      "Processing Record 33 of Set 4 | general pico\n",
      "Processing Record 34 of Set 4 | sambava\n",
      "Processing Record 35 of Set 4 | nuuk\n",
      "Processing Record 36 of Set 4 | barrow\n",
      "Processing Record 37 of Set 4 | sungairaya\n",
      "Processing Record 38 of Set 4 | robertsport\n",
      "Processing Record 39 of Set 4 | ilulissat\n",
      "Processing Record 40 of Set 4 | darnah\n",
      "Processing Record 41 of Set 4 | pedra azul\n",
      "Processing Record 42 of Set 4 | hervey bay\n",
      "Processing Record 43 of Set 4 | vao\n",
      "Processing Record 44 of Set 4 | port macquarie\n",
      "Processing Record 45 of Set 4 | yagodnoye\n",
      "Processing Record 46 of Set 4 | coquimbo\n",
      "Processing Record 47 of Set 4 | albany\n",
      "Processing Record 48 of Set 4 | la palma\n",
      "Processing Record 49 of Set 4 | huilong\n",
      "Processing Record 50 of Set 4 | okuchi\n",
      "Processing Record 1 of Set 5 | saint-ambroise\n",
      "Processing Record 2 of Set 5 | magistralnyy\n",
      "Processing Record 3 of Set 5 | mahebourg\n",
      "Processing Record 4 of Set 5 | rokupr\n",
      "Processing Record 5 of Set 5 | bone\n",
      "Processing Record 6 of Set 5 | ugoofaaru\n",
      "Processing Record 7 of Set 5 | kampene\n",
      "Processing Record 8 of Set 5 | challapata\n",
      "Processing Record 9 of Set 5 | umzimvubu\n",
      "City not found. Skipping...\n",
      "Processing Record 10 of Set 5 | charlestown\n"
     ]
    },
    {
     "name": "stderr",
     "output_type": "stream",
     "text": [
      "Traceback (most recent call last):\n",
      "  File \"<ipython-input-6-2758b8150e3e>\", line 31, in <module>\n",
      "    city_lat = city_weather[\"coord\"][\"lat\"]\n",
      "KeyError: 'coord'\n"
     ]
    },
    {
     "name": "stdout",
     "output_type": "stream",
     "text": [
      "Processing Record 11 of Set 5 | zheleznodorozhnyy\n",
      "Processing Record 12 of Set 5 | belyy yar\n",
      "Processing Record 13 of Set 5 | illoqqortoormiut\n",
      "City not found. Skipping...\n"
     ]
    },
    {
     "name": "stderr",
     "output_type": "stream",
     "text": [
      "Traceback (most recent call last):\n",
      "  File \"<ipython-input-6-2758b8150e3e>\", line 31, in <module>\n",
      "    city_lat = city_weather[\"coord\"][\"lat\"]\n",
      "KeyError: 'coord'\n"
     ]
    },
    {
     "name": "stdout",
     "output_type": "stream",
     "text": [
      "Processing Record 14 of Set 5 | matagami\n",
      "Processing Record 15 of Set 5 | hamilton\n",
      "Processing Record 16 of Set 5 | bathsheba\n",
      "Processing Record 17 of Set 5 | hasaki\n",
      "Processing Record 18 of Set 5 | zhezkazgan\n",
      "Processing Record 19 of Set 5 | mohgaon\n",
      "Processing Record 20 of Set 5 | airai\n",
      "Processing Record 21 of Set 5 | krasnaya gora\n",
      "Processing Record 22 of Set 5 | teahupoo\n",
      "Processing Record 23 of Set 5 | santona\n",
      "Processing Record 24 of Set 5 | tendukheda\n",
      "Processing Record 25 of Set 5 | pisco\n",
      "Processing Record 26 of Set 5 | los llanos de aridane\n",
      "Processing Record 27 of Set 5 | waingapu\n",
      "Processing Record 28 of Set 5 | buchanan\n",
      "Processing Record 29 of Set 5 | beringovskiy\n",
      "Processing Record 30 of Set 5 | ulyanovsk\n",
      "Processing Record 31 of Set 5 | sept-iles\n",
      "Processing Record 32 of Set 5 | sentyabrskiy\n",
      "City not found. Skipping...\n"
     ]
    },
    {
     "name": "stderr",
     "output_type": "stream",
     "text": [
      "Traceback (most recent call last):\n",
      "  File \"<ipython-input-6-2758b8150e3e>\", line 31, in <module>\n",
      "    city_lat = city_weather[\"coord\"][\"lat\"]\n",
      "KeyError: 'coord'\n"
     ]
    },
    {
     "name": "stdout",
     "output_type": "stream",
     "text": [
      "Processing Record 33 of Set 5 | namibe\n",
      "Processing Record 34 of Set 5 | yulara\n",
      "Processing Record 35 of Set 5 | port blair\n",
      "Processing Record 36 of Set 5 | plettenberg bay\n",
      "Processing Record 37 of Set 5 | avarua\n",
      "Processing Record 38 of Set 5 | coahuayana\n",
      "Processing Record 39 of Set 5 | suamico\n",
      "Processing Record 40 of Set 5 | tumannyy\n",
      "City not found. Skipping...\n",
      "Processing Record 41 of Set 5 | tall kayf\n"
     ]
    },
    {
     "name": "stderr",
     "output_type": "stream",
     "text": [
      "Traceback (most recent call last):\n",
      "  File \"<ipython-input-6-2758b8150e3e>\", line 31, in <module>\n",
      "    city_lat = city_weather[\"coord\"][\"lat\"]\n",
      "KeyError: 'coord'\n"
     ]
    },
    {
     "name": "stdout",
     "output_type": "stream",
     "text": [
      "Processing Record 42 of Set 5 | raudeberg\n",
      "Processing Record 43 of Set 5 | trinidad\n",
      "Processing Record 44 of Set 5 | ajdabiya\n",
      "Processing Record 45 of Set 5 | sandwick\n",
      "Processing Record 46 of Set 5 | dolinsk\n",
      "Processing Record 47 of Set 5 | kostomuksha\n",
      "Processing Record 48 of Set 5 | ossora\n",
      "Processing Record 49 of Set 5 | punta alta\n",
      "Processing Record 50 of Set 5 | antofagasta\n",
      "Processing Record 1 of Set 6 | brigantine\n",
      "Processing Record 2 of Set 6 | gulshat\n",
      "City not found. Skipping...\n",
      "Processing Record 3 of Set 6 | severo-kurilsk\n"
     ]
    },
    {
     "name": "stderr",
     "output_type": "stream",
     "text": [
      "Traceback (most recent call last):\n",
      "  File \"<ipython-input-6-2758b8150e3e>\", line 31, in <module>\n",
      "    city_lat = city_weather[\"coord\"][\"lat\"]\n",
      "KeyError: 'coord'\n"
     ]
    },
    {
     "name": "stdout",
     "output_type": "stream",
     "text": [
      "Processing Record 4 of Set 6 | orito\n",
      "Processing Record 5 of Set 6 | poum\n",
      "Processing Record 6 of Set 6 | dongsheng\n",
      "Processing Record 7 of Set 6 | warmbad\n",
      "Processing Record 8 of Set 6 | moose factory\n",
      "Processing Record 9 of Set 6 | bodden town\n",
      "Processing Record 10 of Set 6 | haines junction\n",
      "Processing Record 11 of Set 6 | xinyu\n",
      "Processing Record 12 of Set 6 | sorland\n",
      "Processing Record 13 of Set 6 | yerbogachen\n",
      "Processing Record 14 of Set 6 | kaitangata\n",
      "Processing Record 15 of Set 6 | barrhead\n",
      "Processing Record 16 of Set 6 | ylivieska\n",
      "Processing Record 17 of Set 6 | samarai\n",
      "Processing Record 18 of Set 6 | louisbourg\n",
      "City not found. Skipping...\n"
     ]
    },
    {
     "name": "stderr",
     "output_type": "stream",
     "text": [
      "Traceback (most recent call last):\n",
      "  File \"<ipython-input-6-2758b8150e3e>\", line 31, in <module>\n",
      "    city_lat = city_weather[\"coord\"][\"lat\"]\n",
      "KeyError: 'coord'\n"
     ]
    },
    {
     "name": "stdout",
     "output_type": "stream",
     "text": [
      "Processing Record 19 of Set 6 | port-gentil\n",
      "Processing Record 20 of Set 6 | danilovka\n",
      "Processing Record 21 of Set 6 | sovetskiy\n",
      "Processing Record 22 of Set 6 | nogliki\n",
      "Processing Record 23 of Set 6 | puerto colombia\n",
      "Processing Record 24 of Set 6 | dingle\n",
      "Processing Record 25 of Set 6 | touros\n",
      "Processing Record 26 of Set 6 | jiuquan\n",
      "Processing Record 27 of Set 6 | aberdeen\n",
      "Processing Record 28 of Set 6 | pokosnoye\n",
      "Processing Record 29 of Set 6 | auki\n",
      "Processing Record 30 of Set 6 | owando\n",
      "Processing Record 31 of Set 6 | bartica\n",
      "Processing Record 32 of Set 6 | high level\n",
      "Processing Record 33 of Set 6 | hwange\n",
      "Processing Record 34 of Set 6 | velyka bilozerka\n",
      "Processing Record 35 of Set 6 | kodiak\n",
      "Processing Record 36 of Set 6 | tiarei\n",
      "Processing Record 37 of Set 6 | vaitupu\n",
      "City not found. Skipping...\n"
     ]
    },
    {
     "name": "stderr",
     "output_type": "stream",
     "text": [
      "Traceback (most recent call last):\n",
      "  File \"<ipython-input-6-2758b8150e3e>\", line 31, in <module>\n",
      "    city_lat = city_weather[\"coord\"][\"lat\"]\n",
      "KeyError: 'coord'\n"
     ]
    },
    {
     "name": "stdout",
     "output_type": "stream",
     "text": [
      "Processing Record 38 of Set 6 | vardo\n",
      "Processing Record 39 of Set 6 | walvis bay\n",
      "Processing Record 40 of Set 6 | udachnyy\n",
      "Processing Record 41 of Set 6 | provideniya\n",
      "Processing Record 42 of Set 6 | vysokogornyy\n",
      "Processing Record 43 of Set 6 | polovinnoye\n",
      "Processing Record 44 of Set 6 | kuruman\n",
      "Processing Record 45 of Set 6 | tiksi\n",
      "Processing Record 46 of Set 6 | beloha\n",
      "Processing Record 47 of Set 6 | chulym\n",
      "Processing Record 48 of Set 6 | dromolaxia\n",
      "Processing Record 49 of Set 6 | camargo\n",
      "Processing Record 50 of Set 6 | mago\n",
      "Processing Record 1 of Set 7 | kommunar\n",
      "Processing Record 2 of Set 7 | lagoa\n",
      "Processing Record 3 of Set 7 | millinocket\n",
      "Processing Record 4 of Set 7 | yelizovo\n",
      "Processing Record 5 of Set 7 | russell\n",
      "Processing Record 6 of Set 7 | saldanha\n",
      "Processing Record 7 of Set 7 | fuerte olimpo\n",
      "Processing Record 8 of Set 7 | khandyga\n",
      "Processing Record 9 of Set 7 | guerrero negro\n",
      "Processing Record 10 of Set 7 | avera\n",
      "Processing Record 11 of Set 7 | taksimo\n",
      "Processing Record 12 of Set 7 | taltal\n",
      "Processing Record 13 of Set 7 | attawapiskat\n",
      "City not found. Skipping...\n"
     ]
    },
    {
     "name": "stderr",
     "output_type": "stream",
     "text": [
      "Traceback (most recent call last):\n",
      "  File \"<ipython-input-6-2758b8150e3e>\", line 31, in <module>\n",
      "    city_lat = city_weather[\"coord\"][\"lat\"]\n",
      "KeyError: 'coord'\n"
     ]
    },
    {
     "name": "stdout",
     "output_type": "stream",
     "text": [
      "Processing Record 14 of Set 7 | san patricio\n",
      "Processing Record 15 of Set 7 | lebanon\n",
      "Processing Record 16 of Set 7 | srivardhan\n",
      "Processing Record 17 of Set 7 | verkhnyaya inta\n",
      "Processing Record 18 of Set 7 | alofi\n",
      "Processing Record 19 of Set 7 | zlynka\n",
      "Processing Record 20 of Set 7 | hofn\n",
      "Processing Record 21 of Set 7 | makakilo city\n",
      "Processing Record 22 of Set 7 | omsukchan\n",
      "Processing Record 23 of Set 7 | ambilobe\n",
      "Processing Record 24 of Set 7 | karamay\n",
      "City not found. Skipping...\n",
      "Processing Record 25 of Set 7 | ibipeba\n"
     ]
    },
    {
     "name": "stderr",
     "output_type": "stream",
     "text": [
      "Traceback (most recent call last):\n",
      "  File \"<ipython-input-6-2758b8150e3e>\", line 31, in <module>\n",
      "    city_lat = city_weather[\"coord\"][\"lat\"]\n",
      "KeyError: 'coord'\n"
     ]
    },
    {
     "name": "stdout",
     "output_type": "stream",
     "text": [
      "Processing Record 26 of Set 7 | gigmoto\n",
      "Processing Record 27 of Set 7 | kazalinsk\n",
      "City not found. Skipping...\n",
      "Processing Record 28 of Set 7 | pinotepa nacional\n"
     ]
    },
    {
     "name": "stderr",
     "output_type": "stream",
     "text": [
      "Traceback (most recent call last):\n",
      "  File \"<ipython-input-6-2758b8150e3e>\", line 31, in <module>\n",
      "    city_lat = city_weather[\"coord\"][\"lat\"]\n",
      "KeyError: 'coord'\n"
     ]
    },
    {
     "name": "stdout",
     "output_type": "stream",
     "text": [
      "Processing Record 29 of Set 7 | vila franca do campo\n",
      "Processing Record 30 of Set 7 | north platte\n",
      "Processing Record 31 of Set 7 | prince rupert\n",
      "Processing Record 32 of Set 7 | yellandu\n",
      "Processing Record 33 of Set 7 | codrington\n",
      "Processing Record 34 of Set 7 | wulanhaote\n",
      "City not found. Skipping...\n",
      "Processing Record 35 of Set 7 | songea\n"
     ]
    },
    {
     "name": "stderr",
     "output_type": "stream",
     "text": [
      "Traceback (most recent call last):\n",
      "  File \"<ipython-input-6-2758b8150e3e>\", line 31, in <module>\n",
      "    city_lat = city_weather[\"coord\"][\"lat\"]\n",
      "KeyError: 'coord'\n"
     ]
    },
    {
     "name": "stdout",
     "output_type": "stream",
     "text": [
      "Processing Record 36 of Set 7 | paamiut\n",
      "Processing Record 37 of Set 7 | marion\n",
      "Processing Record 38 of Set 7 | namatanai\n",
      "Processing Record 39 of Set 7 | kearney\n",
      "Processing Record 40 of Set 7 | sitka\n",
      "Processing Record 41 of Set 7 | muros\n",
      "Processing Record 42 of Set 7 | karak\n",
      "Processing Record 43 of Set 7 | onega\n",
      "Processing Record 44 of Set 7 | tuatapere\n",
      "Processing Record 45 of Set 7 | altay\n",
      "Processing Record 46 of Set 7 | karpathos\n",
      "Processing Record 47 of Set 7 | gaya\n",
      "Processing Record 48 of Set 7 | esperance\n",
      "Processing Record 49 of Set 7 | matara\n",
      "Processing Record 50 of Set 7 | oda\n",
      "Processing Record 1 of Set 8 | ahar\n",
      "Processing Record 2 of Set 8 | ostrovnoy\n",
      "Processing Record 3 of Set 8 | mato verde\n",
      "Processing Record 4 of Set 8 | kruisfontein\n",
      "Processing Record 5 of Set 8 | shitanjing\n",
      "Processing Record 6 of Set 8 | mocuba\n",
      "Processing Record 7 of Set 8 | shingu\n",
      "Processing Record 8 of Set 8 | cherskiy\n",
      "Processing Record 9 of Set 8 | moerai\n",
      "Processing Record 10 of Set 8 | grand forks\n",
      "Processing Record 11 of Set 8 | itinga\n",
      "Processing Record 12 of Set 8 | maymyo\n",
      "Processing Record 13 of Set 8 | baindur\n",
      "Processing Record 14 of Set 8 | kidal\n",
      "Processing Record 15 of Set 8 | kula\n",
      "Processing Record 16 of Set 8 | benjamin constant\n",
      "Processing Record 17 of Set 8 | victoria\n",
      "Processing Record 18 of Set 8 | tullahoma\n",
      "Processing Record 19 of Set 8 | kutum\n",
      "Processing Record 20 of Set 8 | port moresby\n",
      "Processing Record 21 of Set 8 | plouzane\n",
      "Processing Record 22 of Set 8 | wuwei\n",
      "Processing Record 23 of Set 8 | lithakia\n",
      "Processing Record 24 of Set 8 | ndele\n",
      "Processing Record 25 of Set 8 | topolobampo\n",
      "Processing Record 26 of Set 8 | imeni poliny osipenko\n",
      "Processing Record 27 of Set 8 | alaverdi\n",
      "Processing Record 28 of Set 8 | tunceli\n",
      "Processing Record 29 of Set 8 | samusu\n",
      "City not found. Skipping...\n"
     ]
    },
    {
     "name": "stderr",
     "output_type": "stream",
     "text": [
      "Traceback (most recent call last):\n",
      "  File \"<ipython-input-6-2758b8150e3e>\", line 31, in <module>\n",
      "    city_lat = city_weather[\"coord\"][\"lat\"]\n",
      "KeyError: 'coord'\n"
     ]
    },
    {
     "name": "stdout",
     "output_type": "stream",
     "text": [
      "Processing Record 30 of Set 8 | kautokeino\n",
      "Processing Record 31 of Set 8 | disna\n",
      "Processing Record 32 of Set 8 | lata\n",
      "Processing Record 33 of Set 8 | ipixuna\n",
      "Processing Record 34 of Set 8 | mamallapuram\n",
      "Processing Record 35 of Set 8 | waddan\n",
      "Processing Record 36 of Set 8 | dubai\n",
      "Processing Record 37 of Set 8 | ajaccio\n",
      "Processing Record 38 of Set 8 | skjervoy\n",
      "Processing Record 39 of Set 8 | pangnirtung\n",
      "Processing Record 40 of Set 8 | falam\n",
      "Processing Record 41 of Set 8 | paternion\n",
      "Processing Record 42 of Set 8 | sao felix do xingu\n",
      "Processing Record 43 of Set 8 | peterhead\n",
      "Processing Record 44 of Set 8 | college\n",
      "Processing Record 45 of Set 8 | formoso do araguaia\n",
      "City not found. Skipping...\n",
      "Processing Record 46 of Set 8 | naze\n"
     ]
    },
    {
     "name": "stderr",
     "output_type": "stream",
     "text": [
      "Traceback (most recent call last):\n",
      "  File \"<ipython-input-6-2758b8150e3e>\", line 31, in <module>\n",
      "    city_lat = city_weather[\"coord\"][\"lat\"]\n",
      "KeyError: 'coord'\n"
     ]
    },
    {
     "name": "stdout",
     "output_type": "stream",
     "text": [
      "Processing Record 47 of Set 8 | upernavik\n",
      "Processing Record 48 of Set 8 | umea\n",
      "Processing Record 49 of Set 8 | cayenne\n",
      "Processing Record 50 of Set 8 | lorengau\n",
      "Processing Record 1 of Set 9 | boulder\n",
      "Processing Record 2 of Set 9 | sao bernardo\n",
      "Processing Record 3 of Set 9 | nome\n",
      "Processing Record 4 of Set 9 | kahului\n",
      "Processing Record 5 of Set 9 | buraydah\n",
      "Processing Record 6 of Set 9 | olafsvik\n",
      "Processing Record 7 of Set 9 | lolua\n",
      "City not found. Skipping...\n"
     ]
    },
    {
     "name": "stderr",
     "output_type": "stream",
     "text": [
      "Traceback (most recent call last):\n",
      "  File \"<ipython-input-6-2758b8150e3e>\", line 31, in <module>\n",
      "    city_lat = city_weather[\"coord\"][\"lat\"]\n",
      "KeyError: 'coord'\n"
     ]
    },
    {
     "name": "stdout",
     "output_type": "stream",
     "text": [
      "Processing Record 8 of Set 9 | tugulym\n",
      "Processing Record 9 of Set 9 | ancud\n",
      "Processing Record 10 of Set 9 | arlit\n",
      "Processing Record 11 of Set 9 | clyde river\n",
      "Processing Record 12 of Set 9 | yelan\n",
      "Processing Record 13 of Set 9 | la ronge\n",
      "Processing Record 14 of Set 9 | waipawa\n",
      "Processing Record 15 of Set 9 | yarim\n",
      "Processing Record 16 of Set 9 | chizhou\n",
      "Processing Record 17 of Set 9 | itanhem\n",
      "Processing Record 18 of Set 9 | faanui\n",
      "Processing Record 19 of Set 9 | abu samrah\n",
      "Processing Record 20 of Set 9 | beni mazar\n",
      "Processing Record 21 of Set 9 | bowen\n",
      "Processing Record 22 of Set 9 | batagay-alyta\n",
      "Processing Record 23 of Set 9 | olinda\n",
      "Processing Record 24 of Set 9 | caxito\n",
      "Processing Record 25 of Set 9 | chegdomyn\n",
      "Processing Record 26 of Set 9 | torbay\n",
      "Processing Record 27 of Set 9 | bubaque\n",
      "Processing Record 28 of Set 9 | lumsden\n",
      "Processing Record 29 of Set 9 | mayumba\n",
      "Processing Record 30 of Set 9 | angoche\n",
      "Processing Record 31 of Set 9 | sirok\n",
      "Processing Record 32 of Set 9 | mount isa\n",
      "Processing Record 33 of Set 9 | siderno\n",
      "Processing Record 34 of Set 9 | aiquile\n",
      "Processing Record 35 of Set 9 | batagay\n",
      "Processing Record 36 of Set 9 | dillon\n",
      "Processing Record 37 of Set 9 | faya\n",
      "Processing Record 38 of Set 9 | karaton\n",
      "Processing Record 39 of Set 9 | san jeronimo\n",
      "Processing Record 40 of Set 9 | kananga\n",
      "Processing Record 41 of Set 9 | marawi\n",
      "Processing Record 42 of Set 9 | saint anthony\n",
      "Processing Record 43 of Set 9 | hobbs\n",
      "Processing Record 44 of Set 9 | ambanja\n",
      "Processing Record 45 of Set 9 | abong mbang\n",
      "Processing Record 46 of Set 9 | sao gabriel da cachoeira\n",
      "Processing Record 47 of Set 9 | cangzhou\n",
      "Processing Record 48 of Set 9 | goundam\n",
      "Processing Record 49 of Set 9 | tshikapa\n",
      "Processing Record 50 of Set 9 | lyaskelya\n",
      "Processing Record 1 of Set 10 | isugod\n",
      "Processing Record 2 of Set 10 | ternate\n",
      "Processing Record 3 of Set 10 | komsomolskiy\n",
      "Processing Record 4 of Set 10 | nanortalik\n",
      "Processing Record 5 of Set 10 | yuzhou\n",
      "Processing Record 6 of Set 10 | tyukhtet\n",
      "Processing Record 7 of Set 10 | bridgetown\n",
      "Processing Record 8 of Set 10 | lakes entrance\n",
      "Processing Record 9 of Set 10 | maragogi\n",
      "Processing Record 10 of Set 10 | palabuhanratu\n",
      "City not found. Skipping...\n",
      "Processing Record 11 of Set 10 | nioro\n"
     ]
    },
    {
     "name": "stderr",
     "output_type": "stream",
     "text": [
      "Traceback (most recent call last):\n",
      "  File \"<ipython-input-6-2758b8150e3e>\", line 31, in <module>\n",
      "    city_lat = city_weather[\"coord\"][\"lat\"]\n",
      "KeyError: 'coord'\n"
     ]
    },
    {
     "name": "stdout",
     "output_type": "stream",
     "text": [
      "Processing Record 12 of Set 10 | kitimat\n",
      "Processing Record 13 of Set 10 | rio gallegos\n",
      "Processing Record 14 of Set 10 | ballina\n",
      "Processing Record 15 of Set 10 | ust-kuyga\n",
      "Processing Record 16 of Set 10 | nizhniy kuranakh\n",
      "Processing Record 17 of Set 10 | balteni\n",
      "Processing Record 18 of Set 10 | buala\n",
      "Processing Record 19 of Set 10 | moindou\n",
      "Processing Record 20 of Set 10 | pechenga\n",
      "Processing Record 21 of Set 10 | shizilu\n",
      "Processing Record 22 of Set 10 | dunedin\n",
      "Processing Record 23 of Set 10 | kabalo\n",
      "Processing Record 24 of Set 10 | lagos\n",
      "Processing Record 25 of Set 10 | teavaro\n",
      "Processing Record 26 of Set 10 | wejherowo\n",
      "Processing Record 27 of Set 10 | north myrtle beach\n",
      "Processing Record 28 of Set 10 | egvekinot\n",
      "Processing Record 29 of Set 10 | guasdualito\n",
      "Processing Record 30 of Set 10 | katherine\n",
      "Processing Record 31 of Set 10 | newport\n",
      "Processing Record 32 of Set 10 | grindavik\n",
      "Processing Record 33 of Set 10 | kimbe\n",
      "Processing Record 34 of Set 10 | portland\n",
      "Processing Record 35 of Set 10 | shihezi\n",
      "Processing Record 36 of Set 10 | harper\n",
      "Processing Record 37 of Set 10 | mitu\n",
      "Processing Record 38 of Set 10 | saint-augustin\n",
      "Processing Record 39 of Set 10 | vila\n",
      "Processing Record 40 of Set 10 | mozirje\n",
      "Processing Record 41 of Set 10 | tahlequah\n",
      "Processing Record 42 of Set 10 | padang\n",
      "Processing Record 43 of Set 10 | bagdarin\n",
      "Processing Record 44 of Set 10 | myre\n",
      "Processing Record 45 of Set 10 | esmeraldas\n",
      "Processing Record 46 of Set 10 | dembi dolo\n",
      "Processing Record 47 of Set 10 | toamasina\n",
      "Processing Record 48 of Set 10 | doka\n",
      "Processing Record 49 of Set 10 | qeshm\n",
      "Processing Record 50 of Set 10 | umm lajj\n",
      "Processing Record 1 of Set 11 | beysehir\n",
      "Processing Record 2 of Set 11 | loukhi\n",
      "Processing Record 3 of Set 11 | dalianwan\n",
      "Processing Record 4 of Set 11 | salta\n",
      "Processing Record 5 of Set 11 | milingimbi\n",
      "City not found. Skipping...\n",
      "Processing Record 6 of Set 11 | the valley\n"
     ]
    },
    {
     "name": "stderr",
     "output_type": "stream",
     "text": [
      "Traceback (most recent call last):\n",
      "  File \"<ipython-input-6-2758b8150e3e>\", line 31, in <module>\n",
      "    city_lat = city_weather[\"coord\"][\"lat\"]\n",
      "KeyError: 'coord'\n"
     ]
    },
    {
     "name": "stdout",
     "output_type": "stream",
     "text": [
      "Processing Record 7 of Set 11 | nancha\n",
      "Processing Record 8 of Set 11 | kloulklubed\n",
      "Processing Record 9 of Set 11 | asau\n",
      "Processing Record 10 of Set 11 | pemberton\n",
      "Processing Record 11 of Set 11 | queenstown\n",
      "Processing Record 12 of Set 11 | comodoro rivadavia\n",
      "Processing Record 13 of Set 11 | osmena\n",
      "Processing Record 14 of Set 11 | krasnyy yar\n",
      "Processing Record 15 of Set 11 | anloga\n",
      "Processing Record 16 of Set 11 | nassjo\n",
      "Processing Record 17 of Set 11 | mora\n",
      "Processing Record 18 of Set 11 | barentsburg\n",
      "City not found. Skipping...\n",
      "Processing Record 19 of Set 11 | hirara\n"
     ]
    },
    {
     "name": "stderr",
     "output_type": "stream",
     "text": [
      "Traceback (most recent call last):\n",
      "  File \"<ipython-input-6-2758b8150e3e>\", line 31, in <module>\n",
      "    city_lat = city_weather[\"coord\"][\"lat\"]\n",
      "KeyError: 'coord'\n"
     ]
    },
    {
     "name": "stdout",
     "output_type": "stream",
     "text": [
      "Processing Record 20 of Set 11 | aykhal\n",
      "Processing Record 21 of Set 11 | fortuna\n",
      "Processing Record 22 of Set 11 | sur\n",
      "Processing Record 23 of Set 11 | marsta\n",
      "Processing Record 24 of Set 11 | santo amaro da imperatriz\n",
      "Processing Record 25 of Set 11 | flin flon\n",
      "Processing Record 26 of Set 11 | zavallya\n",
      "Processing Record 27 of Set 11 | pila\n",
      "Processing Record 28 of Set 11 | deputatskiy\n",
      "Processing Record 29 of Set 11 | ulladulla\n",
      "Processing Record 30 of Set 11 | shigony\n",
      "Processing Record 31 of Set 11 | vaitape\n",
      "Processing Record 32 of Set 11 | carballo\n",
      "Processing Record 33 of Set 11 | port dover\n",
      "Processing Record 34 of Set 11 | khovu-aksy\n",
      "Processing Record 35 of Set 11 | chitral\n",
      "Processing Record 36 of Set 11 | karaul\n",
      "City not found. Skipping...\n",
      "Processing Record 37 of Set 11 | quatre cocos\n"
     ]
    },
    {
     "name": "stderr",
     "output_type": "stream",
     "text": [
      "Traceback (most recent call last):\n",
      "  File \"<ipython-input-6-2758b8150e3e>\", line 31, in <module>\n",
      "    city_lat = city_weather[\"coord\"][\"lat\"]\n",
      "KeyError: 'coord'\n"
     ]
    },
    {
     "name": "stdout",
     "output_type": "stream",
     "text": [
      "Processing Record 38 of Set 11 | bolungarvik\n",
      "City not found. Skipping...\n"
     ]
    },
    {
     "name": "stderr",
     "output_type": "stream",
     "text": [
      "Traceback (most recent call last):\n",
      "  File \"<ipython-input-6-2758b8150e3e>\", line 31, in <module>\n",
      "    city_lat = city_weather[\"coord\"][\"lat\"]\n",
      "KeyError: 'coord'\n"
     ]
    },
    {
     "name": "stdout",
     "output_type": "stream",
     "text": [
      "Processing Record 39 of Set 11 | saint-pierre\n",
      "Processing Record 40 of Set 11 | bandarbeyla\n",
      "Processing Record 41 of Set 11 | douentza\n",
      "Processing Record 42 of Set 11 | balykshi\n",
      "Processing Record 43 of Set 11 | gambela\n",
      "Processing Record 44 of Set 11 | salmo\n",
      "Processing Record 45 of Set 11 | shymkent\n",
      "Processing Record 46 of Set 11 | tigzirt\n",
      "Processing Record 47 of Set 11 | vila do maio\n",
      "Processing Record 48 of Set 11 | say\n",
      "Processing Record 49 of Set 11 | cam ranh\n",
      "Processing Record 50 of Set 11 | yialos\n",
      "City not found. Skipping...\n",
      "Processing Record 1 of Set 12 | tabarqah\n"
     ]
    },
    {
     "name": "stderr",
     "output_type": "stream",
     "text": [
      "Traceback (most recent call last):\n",
      "  File \"<ipython-input-6-2758b8150e3e>\", line 31, in <module>\n",
      "    city_lat = city_weather[\"coord\"][\"lat\"]\n",
      "KeyError: 'coord'\n",
      "Traceback (most recent call last):\n",
      "  File \"<ipython-input-6-2758b8150e3e>\", line 31, in <module>\n",
      "    city_lat = city_weather[\"coord\"][\"lat\"]\n",
      "KeyError: 'coord'\n"
     ]
    },
    {
     "name": "stdout",
     "output_type": "stream",
     "text": [
      "City not found. Skipping...\n",
      "Processing Record 2 of Set 12 | korla\n",
      "Processing Record 3 of Set 12 | shelburne\n",
      "Processing Record 4 of Set 12 | kaeo\n",
      "Processing Record 5 of Set 12 | clifton\n",
      "Processing Record 6 of Set 12 | saryshagan\n",
      "City not found. Skipping...\n",
      "Processing Record 7 of Set 12 | thinadhoo\n"
     ]
    },
    {
     "name": "stderr",
     "output_type": "stream",
     "text": [
      "Traceback (most recent call last):\n",
      "  File \"<ipython-input-6-2758b8150e3e>\", line 31, in <module>\n",
      "    city_lat = city_weather[\"coord\"][\"lat\"]\n",
      "KeyError: 'coord'\n"
     ]
    },
    {
     "name": "stdout",
     "output_type": "stream",
     "text": [
      "Processing Record 8 of Set 12 | san pedro de macoris\n",
      "Processing Record 9 of Set 12 | elizabeth city\n",
      "Processing Record 10 of Set 12 | laguna\n",
      "Processing Record 11 of Set 12 | saint-michel-des-saints\n",
      "Processing Record 12 of Set 12 | sorong\n",
      "Processing Record 13 of Set 12 | yakeshi\n",
      "Processing Record 14 of Set 12 | ankang\n",
      "Processing Record 15 of Set 12 | qaqortoq\n",
      "Processing Record 16 of Set 12 | tres arroyos\n",
      "Processing Record 17 of Set 12 | mitsamiouli\n",
      "Processing Record 18 of Set 12 | lamlash\n",
      "Processing Record 19 of Set 12 | ruatoria\n",
      "City not found. Skipping...\n"
     ]
    },
    {
     "name": "stderr",
     "output_type": "stream",
     "text": [
      "Traceback (most recent call last):\n",
      "  File \"<ipython-input-6-2758b8150e3e>\", line 31, in <module>\n",
      "    city_lat = city_weather[\"coord\"][\"lat\"]\n",
      "KeyError: 'coord'\n"
     ]
    },
    {
     "name": "stdout",
     "output_type": "stream",
     "text": [
      "Processing Record 20 of Set 12 | middle island\n",
      "Processing Record 21 of Set 12 | surt\n",
      "Processing Record 22 of Set 12 | minna\n",
      "Processing Record 23 of Set 12 | qandahar\n",
      "City not found. Skipping...\n"
     ]
    },
    {
     "name": "stderr",
     "output_type": "stream",
     "text": [
      "Traceback (most recent call last):\n",
      "  File \"<ipython-input-6-2758b8150e3e>\", line 31, in <module>\n",
      "    city_lat = city_weather[\"coord\"][\"lat\"]\n",
      "KeyError: 'coord'\n"
     ]
    },
    {
     "name": "stdout",
     "output_type": "stream",
     "text": [
      "Processing Record 24 of Set 12 | marystown\n",
      "Processing Record 25 of Set 12 | san cristobal\n",
      "Processing Record 26 of Set 12 | gazanjyk\n",
      "Processing Record 27 of Set 12 | coihaique\n",
      "Processing Record 28 of Set 12 | bur gabo\n",
      "City not found. Skipping...\n",
      "Processing Record 29 of Set 12 | rungata\n"
     ]
    },
    {
     "name": "stderr",
     "output_type": "stream",
     "text": [
      "Traceback (most recent call last):\n",
      "  File \"<ipython-input-6-2758b8150e3e>\", line 31, in <module>\n",
      "    city_lat = city_weather[\"coord\"][\"lat\"]\n",
      "KeyError: 'coord'\n",
      "Traceback (most recent call last):\n",
      "  File \"<ipython-input-6-2758b8150e3e>\", line 31, in <module>\n",
      "    city_lat = city_weather[\"coord\"][\"lat\"]\n",
      "KeyError: 'coord'\n"
     ]
    },
    {
     "name": "stdout",
     "output_type": "stream",
     "text": [
      "City not found. Skipping...\n",
      "Processing Record 30 of Set 12 | dong hoi\n",
      "Processing Record 31 of Set 12 | saint-joseph\n",
      "Processing Record 32 of Set 12 | suntar\n",
      "Processing Record 33 of Set 12 | goderich\n",
      "Processing Record 34 of Set 12 | acapulco\n",
      "Processing Record 35 of Set 12 | bilma\n",
      "Processing Record 36 of Set 12 | balgazyn\n",
      "Processing Record 37 of Set 12 | tarudant\n",
      "City not found. Skipping...\n",
      "Processing Record 38 of Set 12 | esso\n"
     ]
    },
    {
     "name": "stderr",
     "output_type": "stream",
     "text": [
      "Traceback (most recent call last):\n",
      "  File \"<ipython-input-6-2758b8150e3e>\", line 31, in <module>\n",
      "    city_lat = city_weather[\"coord\"][\"lat\"]\n",
      "KeyError: 'coord'\n"
     ]
    },
    {
     "name": "stdout",
     "output_type": "stream",
     "text": [
      "Processing Record 39 of Set 12 | oktyabrskoye\n",
      "Processing Record 40 of Set 12 | iquitos\n",
      "Processing Record 41 of Set 12 | esna\n",
      "Processing Record 42 of Set 12 | emerald\n",
      "Processing Record 43 of Set 12 | senanga\n",
      "Processing Record 44 of Set 12 | maripi\n",
      "Processing Record 45 of Set 12 | krasnoselkup\n",
      "Processing Record 46 of Set 12 | north bend\n",
      "Processing Record 47 of Set 12 | la llanada\n",
      "Processing Record 48 of Set 12 | morondava\n",
      "Processing Record 49 of Set 12 | shebunino\n",
      "Processing Record 50 of Set 12 | koshurnikovo\n",
      "Processing Record 1 of Set 13 | daru\n",
      "Processing Record 2 of Set 13 | wajir\n",
      "Processing Record 3 of Set 13 | santiago\n",
      "Processing Record 4 of Set 13 | okha\n",
      "Processing Record 5 of Set 13 | seddon\n",
      "Processing Record 6 of Set 13 | mareeba\n",
      "Processing Record 7 of Set 13 | camalu\n",
      "Processing Record 8 of Set 13 | nyrob\n",
      "Processing Record 9 of Set 13 | roebourne\n",
      "Processing Record 10 of Set 13 | adrar\n",
      "Processing Record 11 of Set 13 | port augusta\n",
      "Processing Record 12 of Set 13 | sabha\n",
      "Processing Record 13 of Set 13 | whitehorse\n",
      "Processing Record 14 of Set 13 | vetluga\n",
      "Processing Record 15 of Set 13 | marzuq\n",
      "Processing Record 16 of Set 13 | viligili\n",
      "City not found. Skipping...\n",
      "Processing Record 17 of Set 13 | san quintin\n"
     ]
    },
    {
     "name": "stderr",
     "output_type": "stream",
     "text": [
      "Traceback (most recent call last):\n",
      "  File \"<ipython-input-6-2758b8150e3e>\", line 31, in <module>\n",
      "    city_lat = city_weather[\"coord\"][\"lat\"]\n",
      "KeyError: 'coord'\n"
     ]
    },
    {
     "name": "stdout",
     "output_type": "stream",
     "text": [
      "Processing Record 18 of Set 13 | san vicente\n",
      "Processing Record 19 of Set 13 | kholtoson\n",
      "Processing Record 20 of Set 13 | tilichiki\n",
      "Processing Record 21 of Set 13 | kinkala\n",
      "Processing Record 22 of Set 13 | iroquois falls\n",
      "Processing Record 23 of Set 13 | siuna\n",
      "Processing Record 24 of Set 13 | thung song\n",
      "Processing Record 25 of Set 13 | chapais\n",
      "Processing Record 26 of Set 13 | linxia\n",
      "Processing Record 27 of Set 13 | hambantota\n",
      "Processing Record 28 of Set 13 | meulaboh\n",
      "Processing Record 29 of Set 13 | andover\n",
      "Processing Record 30 of Set 13 | tahta\n",
      "Processing Record 31 of Set 13 | noyon\n",
      "Processing Record 32 of Set 13 | manado\n",
      "Processing Record 33 of Set 13 | anchorage\n",
      "Processing Record 34 of Set 13 | peniche\n",
      "Processing Record 35 of Set 13 | sechura\n",
      "Processing Record 36 of Set 13 | paita\n",
      "Processing Record 37 of Set 13 | okhotsk\n",
      "Processing Record 38 of Set 13 | dudinka\n",
      "Processing Record 39 of Set 13 | zyryanka\n",
      "Processing Record 40 of Set 13 | regina\n",
      "Processing Record 41 of Set 13 | ondangwa\n",
      "Processing Record 42 of Set 13 | conde\n",
      "Processing Record 43 of Set 13 | providencia\n",
      "Processing Record 44 of Set 13 | puerto carreno\n",
      "Processing Record 45 of Set 13 | trairi\n",
      "Processing Record 46 of Set 13 | rosetta\n",
      "Processing Record 47 of Set 13 | motygino\n",
      "Processing Record 48 of Set 13 | luau\n",
      "Processing Record 49 of Set 13 | vermillion\n",
      "Processing Record 50 of Set 13 | ormond beach\n",
      "Processing Record 1 of Set 14 | oranjemund\n",
      "Processing Record 2 of Set 14 | banyo\n",
      "Processing Record 3 of Set 14 | marau\n",
      "Processing Record 4 of Set 14 | diu\n",
      "Processing Record 5 of Set 14 | kalat\n",
      "Processing Record 6 of Set 14 | salalah\n",
      "Processing Record 7 of Set 14 | dolbeau\n",
      "City not found. Skipping...\n",
      "Processing Record 8 of Set 14 | lalibela\n"
     ]
    },
    {
     "name": "stderr",
     "output_type": "stream",
     "text": [
      "Traceback (most recent call last):\n",
      "  File \"<ipython-input-6-2758b8150e3e>\", line 31, in <module>\n",
      "    city_lat = city_weather[\"coord\"][\"lat\"]\n",
      "KeyError: 'coord'\n"
     ]
    },
    {
     "name": "stdout",
     "output_type": "stream",
     "text": [
      "Processing Record 9 of Set 14 | carauari\n",
      "Processing Record 10 of Set 14 | longlac\n",
      "City not found. Skipping...\n",
      "Processing Record 11 of Set 14 | maryville\n"
     ]
    },
    {
     "name": "stderr",
     "output_type": "stream",
     "text": [
      "Traceback (most recent call last):\n",
      "  File \"<ipython-input-6-2758b8150e3e>\", line 31, in <module>\n",
      "    city_lat = city_weather[\"coord\"][\"lat\"]\n",
      "KeyError: 'coord'\n"
     ]
    },
    {
     "name": "stdout",
     "output_type": "stream",
     "text": [
      "Processing Record 12 of Set 14 | dwarka\n",
      "Processing Record 13 of Set 14 | lasa\n",
      "Processing Record 14 of Set 14 | severo-yeniseyskiy\n",
      "Processing Record 15 of Set 14 | sao filipe\n",
      "Processing Record 16 of Set 14 | corning\n",
      "Processing Record 17 of Set 14 | sobradinho\n",
      "Processing Record 18 of Set 14 | denpasar\n",
      "Processing Record 19 of Set 14 | falealupo\n",
      "City not found. Skipping...\n",
      "Processing Record 20 of Set 14 | juneau\n",
      "Processing Record 21 of Set 14 | copiapo\n"
     ]
    },
    {
     "name": "stderr",
     "output_type": "stream",
     "text": [
      "Traceback (most recent call last):\n",
      "  File \"<ipython-input-6-2758b8150e3e>\", line 31, in <module>\n",
      "    city_lat = city_weather[\"coord\"][\"lat\"]\n",
      "KeyError: 'coord'\n"
     ]
    },
    {
     "name": "stdout",
     "output_type": "stream",
     "text": [
      "Processing Record 22 of Set 14 | xichang\n",
      "Processing Record 23 of Set 14 | boguchany\n",
      "Processing Record 24 of Set 14 | sirfa\n",
      "City not found. Skipping...\n"
     ]
    },
    {
     "name": "stderr",
     "output_type": "stream",
     "text": [
      "Traceback (most recent call last):\n",
      "  File \"<ipython-input-6-2758b8150e3e>\", line 31, in <module>\n",
      "    city_lat = city_weather[\"coord\"][\"lat\"]\n",
      "KeyError: 'coord'\n"
     ]
    },
    {
     "name": "stdout",
     "output_type": "stream",
     "text": [
      "Processing Record 25 of Set 14 | poronaysk\n",
      "Processing Record 26 of Set 14 | sorokino\n",
      "Processing Record 27 of Set 14 | aquiraz\n",
      "Processing Record 28 of Set 14 | berdyuzhye\n",
      "City not found. Skipping...\n",
      "Processing Record 29 of Set 14 | lavrentiya\n"
     ]
    },
    {
     "name": "stderr",
     "output_type": "stream",
     "text": [
      "Traceback (most recent call last):\n",
      "  File \"<ipython-input-6-2758b8150e3e>\", line 31, in <module>\n",
      "    city_lat = city_weather[\"coord\"][\"lat\"]\n",
      "KeyError: 'coord'\n"
     ]
    },
    {
     "name": "stdout",
     "output_type": "stream",
     "text": [
      "Processing Record 30 of Set 14 | garissa\n",
      "Processing Record 31 of Set 14 | koslan\n",
      "Processing Record 32 of Set 14 | santa isabel do rio negro\n",
      "Processing Record 33 of Set 14 | grand gaube\n",
      "Processing Record 34 of Set 14 | cotonou\n",
      "Processing Record 35 of Set 14 | gat\n",
      "Processing Record 36 of Set 14 | yuzawa\n",
      "Processing Record 37 of Set 14 | pedernales\n",
      "Processing Record 38 of Set 14 | uetze\n",
      "Processing Record 39 of Set 14 | todos santos\n",
      "Processing Record 40 of Set 14 | lodwar\n",
      "Processing Record 41 of Set 14 | gawler\n",
      "Processing Record 42 of Set 14 | huarmey\n",
      "Processing Record 43 of Set 14 | sivaki\n",
      "Processing Record 44 of Set 14 | rurrenabaque\n",
      "Processing Record 45 of Set 14 | rosa zarate\n",
      "Processing Record 46 of Set 14 | tangzhai\n",
      "Processing Record 47 of Set 14 | ayan\n",
      "Processing Record 48 of Set 14 | fethiye\n",
      "Processing Record 49 of Set 14 | kasongo\n",
      "Processing Record 50 of Set 14 | mehamn\n",
      "Processing Record 1 of Set 15 | chifeng\n",
      "Processing Record 2 of Set 15 | camopi\n",
      "Processing Record 3 of Set 15 | awjilah\n",
      "Processing Record 4 of Set 15 | trincomalee\n",
      "Processing Record 5 of Set 15 | manaure\n",
      "Processing Record 6 of Set 15 | bama\n",
      "Processing Record 7 of Set 15 | faridan\n",
      "City not found. Skipping...\n",
      "Processing Record 8 of Set 15 | khani\n"
     ]
    },
    {
     "name": "stderr",
     "output_type": "stream",
     "text": [
      "Traceback (most recent call last):\n",
      "  File \"<ipython-input-6-2758b8150e3e>\", line 31, in <module>\n",
      "    city_lat = city_weather[\"coord\"][\"lat\"]\n",
      "KeyError: 'coord'\n"
     ]
    },
    {
     "name": "stdout",
     "output_type": "stream",
     "text": [
      "Processing Record 9 of Set 15 | miramar\n",
      "Processing Record 10 of Set 15 | fort nelson\n",
      "Processing Record 11 of Set 15 | ibotirama\n",
      "Processing Record 12 of Set 15 | itaituba\n",
      "Processing Record 13 of Set 15 | caravelas\n",
      "Processing Record 14 of Set 15 | charters towers\n",
      "Processing Record 15 of Set 15 | tkvarcheli\n",
      "City not found. Skipping...\n",
      "Processing Record 16 of Set 15 | jurado\n"
     ]
    },
    {
     "name": "stderr",
     "output_type": "stream",
     "text": [
      "Traceback (most recent call last):\n",
      "  File \"<ipython-input-6-2758b8150e3e>\", line 31, in <module>\n",
      "    city_lat = city_weather[\"coord\"][\"lat\"]\n",
      "KeyError: 'coord'\n"
     ]
    },
    {
     "name": "stdout",
     "output_type": "stream",
     "text": [
      "Processing Record 17 of Set 15 | crowley\n",
      "Processing Record 18 of Set 15 | twentynine palms\n",
      "Processing Record 19 of Set 15 | amapa\n",
      "Processing Record 20 of Set 15 | alice\n",
      "Processing Record 21 of Set 15 | ciras\n",
      "City not found. Skipping...\n",
      "Processing Record 22 of Set 15 | oistins\n"
     ]
    },
    {
     "name": "stderr",
     "output_type": "stream",
     "text": [
      "Traceback (most recent call last):\n",
      "  File \"<ipython-input-6-2758b8150e3e>\", line 31, in <module>\n",
      "    city_lat = city_weather[\"coord\"][\"lat\"]\n",
      "KeyError: 'coord'\n"
     ]
    },
    {
     "name": "stdout",
     "output_type": "stream",
     "text": [
      "Processing Record 23 of Set 15 | riyadh\n",
      "Processing Record 24 of Set 15 | cap malheureux\n",
      "Processing Record 25 of Set 15 | labutta\n",
      "City not found. Skipping...\n",
      "Processing Record 26 of Set 15 | andros town\n"
     ]
    },
    {
     "name": "stderr",
     "output_type": "stream",
     "text": [
      "Traceback (most recent call last):\n",
      "  File \"<ipython-input-6-2758b8150e3e>\", line 31, in <module>\n",
      "    city_lat = city_weather[\"coord\"][\"lat\"]\n",
      "KeyError: 'coord'\n"
     ]
    },
    {
     "name": "stdout",
     "output_type": "stream",
     "text": [
      "Processing Record 27 of Set 15 | puri\n",
      "Processing Record 28 of Set 15 | maumere\n",
      "Processing Record 29 of Set 15 | andenes\n",
      "Processing Record 30 of Set 15 | gurnee\n",
      "Processing Record 31 of Set 15 | la seyne-sur-mer\n",
      "Processing Record 32 of Set 15 | guatire\n",
      "Processing Record 33 of Set 15 | watsa\n",
      "Processing Record 34 of Set 15 | bani walid\n",
      "Processing Record 35 of Set 15 | tiznit\n",
      "Processing Record 36 of Set 15 | princeville\n",
      "Processing Record 37 of Set 15 | zhuanghe\n",
      "Processing Record 38 of Set 15 | fairview\n",
      "Processing Record 39 of Set 15 | yanan\n",
      "City not found. Skipping...\n",
      "Processing Record 40 of Set 15 | riverton\n",
      "Processing Record 41 of Set 15 | dzhusaly\n"
     ]
    },
    {
     "name": "stderr",
     "output_type": "stream",
     "text": [
      "Traceback (most recent call last):\n",
      "  File \"<ipython-input-6-2758b8150e3e>\", line 31, in <module>\n",
      "    city_lat = city_weather[\"coord\"][\"lat\"]\n",
      "KeyError: 'coord'\n"
     ]
    },
    {
     "name": "stdout",
     "output_type": "stream",
     "text": [
      "City not found. Skipping...\n",
      "Processing Record 42 of Set 15 | cabra\n"
     ]
    },
    {
     "name": "stderr",
     "output_type": "stream",
     "text": [
      "Traceback (most recent call last):\n",
      "  File \"<ipython-input-6-2758b8150e3e>\", line 31, in <module>\n",
      "    city_lat = city_weather[\"coord\"][\"lat\"]\n",
      "KeyError: 'coord'\n"
     ]
    },
    {
     "name": "stdout",
     "output_type": "stream",
     "text": [
      "Processing Record 43 of Set 15 | ituni\n",
      "City not found. Skipping...\n",
      "Processing Record 44 of Set 15 | jacareacanga\n"
     ]
    },
    {
     "name": "stderr",
     "output_type": "stream",
     "text": [
      "Traceback (most recent call last):\n",
      "  File \"<ipython-input-6-2758b8150e3e>\", line 31, in <module>\n",
      "    city_lat = city_weather[\"coord\"][\"lat\"]\n",
      "KeyError: 'coord'\n"
     ]
    },
    {
     "name": "stdout",
     "output_type": "stream",
     "text": [
      "Processing Record 45 of Set 15 | komsomolskoye\n",
      "Processing Record 46 of Set 15 | uwayl\n",
      "City not found. Skipping...\n",
      "Processing Record 47 of Set 15 | hohhot\n"
     ]
    },
    {
     "name": "stderr",
     "output_type": "stream",
     "text": [
      "Traceback (most recent call last):\n",
      "  File \"<ipython-input-6-2758b8150e3e>\", line 31, in <module>\n",
      "    city_lat = city_weather[\"coord\"][\"lat\"]\n",
      "KeyError: 'coord'\n"
     ]
    },
    {
     "name": "stdout",
     "output_type": "stream",
     "text": [
      "Processing Record 48 of Set 15 | roald\n",
      "Processing Record 49 of Set 15 | saleaula\n",
      "City not found. Skipping...\n",
      "Processing Record 50 of Set 15 | bouna\n"
     ]
    },
    {
     "name": "stderr",
     "output_type": "stream",
     "text": [
      "Traceback (most recent call last):\n",
      "  File \"<ipython-input-6-2758b8150e3e>\", line 31, in <module>\n",
      "    city_lat = city_weather[\"coord\"][\"lat\"]\n",
      "KeyError: 'coord'\n"
     ]
    },
    {
     "name": "stdout",
     "output_type": "stream",
     "text": [
      "Processing Record 1 of Set 16 | san felipe\n",
      "Processing Record 2 of Set 16 | te anau\n",
      "Processing Record 3 of Set 16 | eyl\n",
      "Processing Record 4 of Set 16 | manggar\n",
      "Processing Record 5 of Set 16 | nueva helvecia\n",
      "Processing Record 6 of Set 16 | abha\n",
      "Processing Record 7 of Set 16 | mecca\n",
      "Processing Record 8 of Set 16 | laje\n",
      "Processing Record 9 of Set 16 | cabot\n",
      "Processing Record 10 of Set 16 | mujiayingzi\n",
      "Processing Record 11 of Set 16 | ngunguru\n",
      "Processing Record 12 of Set 16 | le vauclin\n",
      "Processing Record 13 of Set 16 | altea\n",
      "Processing Record 14 of Set 16 | antsohihy\n",
      "Processing Record 15 of Set 16 | yatou\n",
      "Processing Record 16 of Set 16 | port hardy\n",
      "Processing Record 17 of Set 16 | cervo\n",
      "Processing Record 18 of Set 16 | gravdal\n",
      "Processing Record 19 of Set 16 | istok\n",
      "Processing Record 20 of Set 16 | fuquay-varina\n",
      "Processing Record 21 of Set 16 | santa ana\n",
      "Processing Record 22 of Set 16 | sherlovaya gora\n",
      "Processing Record 23 of Set 16 | batemans bay\n",
      "Processing Record 24 of Set 16 | rafraf\n",
      "Processing Record 25 of Set 16 | gorontalo\n",
      "Processing Record 26 of Set 16 | omboue\n",
      "Processing Record 27 of Set 16 | lexington\n",
      "-----------------------------\n",
      "Data Retrieval Complete      \n",
      "-----------------------------\n"
     ]
    }
   ],
   "source": [
    "# Create an empty list to hold the weather data.\n",
    "city_data = []\n",
    "# Print the beginning of the logging.\n",
    "print(\"Beginning Data Retrieval     \")\n",
    "print(\"-----------------------------\")\n",
    "\n",
    "# Create counters.\n",
    "record_count = 1\n",
    "set_count = 1\n",
    "\n",
    "# Loop through all the cities in the list.\n",
    "for i, city in enumerate(cities):\n",
    "\n",
    "    # Group cities in sets of 50 for logging purposes.\n",
    "    if (i % 50 == 0 and i >= 50):\n",
    "        set_count += 1\n",
    "        record_count = 1\n",
    "    # Create endpoint URL with each city.\n",
    "    city_url = url + \"&q=\" + city.replace(\" \",\"+\")\n",
    "\n",
    "    # Log the URL, record, and set numbers and the city.\n",
    "    print(f\"Processing Record {record_count} of Set {set_count} | {city}\")\n",
    "    # Add 1 to the record count.\n",
    "    record_count += 1\n",
    "\n",
    "# Run an API request for each of the cities.\n",
    "    try:\n",
    "        # Parse the JSON and retrieve data.\n",
    "        city_weather = requests.get(city_url).json()\n",
    "        # Parse out the needed data.\n",
    "        city_lat = city_weather[\"coord\"][\"lat\"]\n",
    "        city_lng = city_weather[\"coord\"][\"lon\"]\n",
    "        city_max_temp = city_weather[\"main\"][\"temp_max\"]\n",
    "        city_humidity = city_weather[\"main\"][\"humidity\"]\n",
    "        city_clouds = city_weather[\"clouds\"][\"all\"]\n",
    "        city_wind = city_weather[\"wind\"][\"speed\"]\n",
    "        city_country = city_weather[\"sys\"][\"country\"]\n",
    "        city_weather_descrip = city_weather[\"weather\"][0][\"description\"]\n",
    "        # Append the city information into city_data list.\n",
    "        city_data.append({\"City\": city.title(),\n",
    "                          \"Lat\": city_lat,\n",
    "                          \"Lng\": city_lng,\n",
    "                          \"Max Temp\": city_max_temp,\n",
    "                          \"Humidity\": city_humidity,\n",
    "                          \"Cloudiness\": city_clouds,\n",
    "                          \"Wind Speed\": city_wind,\n",
    "                          \"Country\": city_country,\n",
    "                          \"Weather Description\": city_weather_descrip})\n",
    "\n",
    "# If an error is experienced, skip the city.\n",
    "    except:\n",
    "        print(\"City not found. Skipping...\")\n",
    "        traceback.print_exc()\n",
    "        pass\n",
    "\n",
    "# Indicate that Data Loading is complete.\n",
    "print(\"-----------------------------\")\n",
    "print(\"Data Retrieval Complete      \")\n",
    "print(\"-----------------------------\")\n"
   ]
  },
  {
   "cell_type": "code",
   "execution_count": 7,
   "metadata": {},
   "outputs": [
    {
     "data": {
      "text/html": [
       "<div>\n",
       "<style scoped>\n",
       "    .dataframe tbody tr th:only-of-type {\n",
       "        vertical-align: middle;\n",
       "    }\n",
       "\n",
       "    .dataframe tbody tr th {\n",
       "        vertical-align: top;\n",
       "    }\n",
       "\n",
       "    .dataframe thead th {\n",
       "        text-align: right;\n",
       "    }\n",
       "</style>\n",
       "<table border=\"1\" class=\"dataframe\">\n",
       "  <thead>\n",
       "    <tr style=\"text-align: right;\">\n",
       "      <th></th>\n",
       "      <th>City</th>\n",
       "      <th>Country</th>\n",
       "      <th>Lat</th>\n",
       "      <th>Lng</th>\n",
       "      <th>Max Temp</th>\n",
       "      <th>Humidity</th>\n",
       "      <th>Cloudiness</th>\n",
       "      <th>Wind Speed</th>\n",
       "      <th>Weather Description</th>\n",
       "    </tr>\n",
       "  </thead>\n",
       "  <tbody>\n",
       "    <tr>\n",
       "      <th>0</th>\n",
       "      <td>Helong</td>\n",
       "      <td>CN</td>\n",
       "      <td>42.5397</td>\n",
       "      <td>128.9972</td>\n",
       "      <td>67.64</td>\n",
       "      <td>17</td>\n",
       "      <td>71</td>\n",
       "      <td>3.74</td>\n",
       "      <td>broken clouds</td>\n",
       "    </tr>\n",
       "    <tr>\n",
       "      <th>1</th>\n",
       "      <td>Kapaa</td>\n",
       "      <td>US</td>\n",
       "      <td>22.0752</td>\n",
       "      <td>-159.3190</td>\n",
       "      <td>73.40</td>\n",
       "      <td>78</td>\n",
       "      <td>75</td>\n",
       "      <td>12.66</td>\n",
       "      <td>broken clouds</td>\n",
       "    </tr>\n",
       "    <tr>\n",
       "      <th>2</th>\n",
       "      <td>Kefamenanu</td>\n",
       "      <td>ID</td>\n",
       "      <td>-9.4467</td>\n",
       "      <td>124.4781</td>\n",
       "      <td>82.65</td>\n",
       "      <td>45</td>\n",
       "      <td>32</td>\n",
       "      <td>5.39</td>\n",
       "      <td>scattered clouds</td>\n",
       "    </tr>\n",
       "    <tr>\n",
       "      <th>3</th>\n",
       "      <td>Busselton</td>\n",
       "      <td>AU</td>\n",
       "      <td>-33.6500</td>\n",
       "      <td>115.3333</td>\n",
       "      <td>78.01</td>\n",
       "      <td>49</td>\n",
       "      <td>99</td>\n",
       "      <td>1.99</td>\n",
       "      <td>overcast clouds</td>\n",
       "    </tr>\n",
       "    <tr>\n",
       "      <th>4</th>\n",
       "      <td>Atuona</td>\n",
       "      <td>PF</td>\n",
       "      <td>-9.8000</td>\n",
       "      <td>-139.0333</td>\n",
       "      <td>79.95</td>\n",
       "      <td>76</td>\n",
       "      <td>77</td>\n",
       "      <td>19.13</td>\n",
       "      <td>light rain</td>\n",
       "    </tr>\n",
       "    <tr>\n",
       "      <th>5</th>\n",
       "      <td>Shunyi</td>\n",
       "      <td>CN</td>\n",
       "      <td>40.1250</td>\n",
       "      <td>116.6453</td>\n",
       "      <td>69.80</td>\n",
       "      <td>43</td>\n",
       "      <td>0</td>\n",
       "      <td>6.71</td>\n",
       "      <td>clear sky</td>\n",
       "    </tr>\n",
       "    <tr>\n",
       "      <th>6</th>\n",
       "      <td>Bluff</td>\n",
       "      <td>NZ</td>\n",
       "      <td>-46.6000</td>\n",
       "      <td>168.3333</td>\n",
       "      <td>48.00</td>\n",
       "      <td>65</td>\n",
       "      <td>81</td>\n",
       "      <td>15.01</td>\n",
       "      <td>broken clouds</td>\n",
       "    </tr>\n",
       "    <tr>\n",
       "      <th>7</th>\n",
       "      <td>Oranjestad</td>\n",
       "      <td>AW</td>\n",
       "      <td>12.5240</td>\n",
       "      <td>-70.0270</td>\n",
       "      <td>79.00</td>\n",
       "      <td>83</td>\n",
       "      <td>20</td>\n",
       "      <td>14.97</td>\n",
       "      <td>few clouds</td>\n",
       "    </tr>\n",
       "    <tr>\n",
       "      <th>8</th>\n",
       "      <td>Punta Arenas</td>\n",
       "      <td>CL</td>\n",
       "      <td>-53.1500</td>\n",
       "      <td>-70.9167</td>\n",
       "      <td>44.60</td>\n",
       "      <td>93</td>\n",
       "      <td>90</td>\n",
       "      <td>5.75</td>\n",
       "      <td>light rain</td>\n",
       "    </tr>\n",
       "    <tr>\n",
       "      <th>9</th>\n",
       "      <td>Ouadda</td>\n",
       "      <td>CF</td>\n",
       "      <td>8.0777</td>\n",
       "      <td>22.4007</td>\n",
       "      <td>70.16</td>\n",
       "      <td>91</td>\n",
       "      <td>100</td>\n",
       "      <td>5.19</td>\n",
       "      <td>overcast clouds</td>\n",
       "    </tr>\n",
       "  </tbody>\n",
       "</table>\n",
       "</div>"
      ],
      "text/plain": [
       "           City Country      Lat       Lng  Max Temp  Humidity  Cloudiness  \\\n",
       "0        Helong      CN  42.5397  128.9972     67.64        17          71   \n",
       "1         Kapaa      US  22.0752 -159.3190     73.40        78          75   \n",
       "2    Kefamenanu      ID  -9.4467  124.4781     82.65        45          32   \n",
       "3     Busselton      AU -33.6500  115.3333     78.01        49          99   \n",
       "4        Atuona      PF  -9.8000 -139.0333     79.95        76          77   \n",
       "5        Shunyi      CN  40.1250  116.6453     69.80        43           0   \n",
       "6         Bluff      NZ -46.6000  168.3333     48.00        65          81   \n",
       "7    Oranjestad      AW  12.5240  -70.0270     79.00        83          20   \n",
       "8  Punta Arenas      CL -53.1500  -70.9167     44.60        93          90   \n",
       "9        Ouadda      CF   8.0777   22.4007     70.16        91         100   \n",
       "\n",
       "   Wind Speed Weather Description  \n",
       "0        3.74       broken clouds  \n",
       "1       12.66       broken clouds  \n",
       "2        5.39    scattered clouds  \n",
       "3        1.99     overcast clouds  \n",
       "4       19.13          light rain  \n",
       "5        6.71           clear sky  \n",
       "6       15.01       broken clouds  \n",
       "7       14.97          few clouds  \n",
       "8        5.75          light rain  \n",
       "9        5.19     overcast clouds  "
      ]
     },
     "execution_count": 7,
     "metadata": {},
     "output_type": "execute_result"
    }
   ],
   "source": [
    "# Convert the array of dictionaries to a Pandas DataFrame.\n",
    "city_data_df = pd.DataFrame(city_data)\n",
    "city_data_df.head(10)\n",
    "\n",
    "new_column_order = [\"City\", \"Country\", \"Lat\", \"Lng\", \"Max Temp\", \"Humidity\", \"Cloudiness\", \"Wind Speed\", \"Weather Description\"]\n",
    "city_data_df = city_data_df[new_column_order]\n",
    "city_data_df.head(10)"
   ]
  },
  {
   "cell_type": "code",
   "execution_count": 8,
   "metadata": {},
   "outputs": [],
   "source": [
    "# Create the output file (CSV).\n",
    "output_data_file = \"weatherPy_database.csv\"\n",
    "# Export the City_Data into a CSV.\n",
    "city_data_df.to_csv(output_data_file, index_label=\"City_ID\")"
   ]
  },
  {
   "cell_type": "code",
   "execution_count": null,
   "metadata": {},
   "outputs": [],
   "source": []
  }
 ],
 "metadata": {
  "kernelspec": {
   "display_name": "PythonData",
   "language": "python",
   "name": "pythondata"
  },
  "language_info": {
   "codemirror_mode": {
    "name": "ipython",
    "version": 3
   },
   "file_extension": ".py",
   "mimetype": "text/x-python",
   "name": "python",
   "nbconvert_exporter": "python",
   "pygments_lexer": "ipython3",
   "version": "3.7.9"
  }
 },
 "nbformat": 4,
 "nbformat_minor": 4
}
